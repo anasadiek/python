{
 "cells": [
  {
   "cell_type": "code",
   "execution_count": 2,
   "id": "dba43784",
   "metadata": {},
   "outputs": [],
   "source": [
    "import pandas as pd \n",
    "file =  pd.read_csv('Moblie Price.csv')"
   ]
  },
  {
   "cell_type": "code",
   "execution_count": 3,
   "id": "d3f96c79",
   "metadata": {},
   "outputs": [],
   "source": [
    "x= file.drop(columns={'price_range'})\n",
    "y =  file['price_range']"
   ]
  },
  {
   "cell_type": "code",
   "execution_count": 41,
   "id": "1064fec7",
   "metadata": {},
   "outputs": [],
   "source": [
    "from sklearn.model_selection import train_test_split\n",
    "from sklearn.preprocessing import MinMaxScaler\n",
    "scaler =  MinMaxScaler()\n",
    "xtrain,xtest,ytrain,ytest =  train_test_split(x,y,train_size=.80,random_state=39)\n",
    "xtrain_scaled =  scaler.fit_transform(xtrain)\n",
    "xtest_scaled =  scaler.transform(xtest)"
   ]
  },
  {
   "cell_type": "code",
   "execution_count": 42,
   "id": "f614308a",
   "metadata": {},
   "outputs": [
    {
     "name": "stdout",
     "output_type": "stream",
     "text": [
      "logesticcregression LogisticRegression()\n",
      "supportvector SVC()\n",
      "naivebayes GaussianNB()\n",
      "knn KNeighborsClassifier()\n",
      "decisiontree DecisionTreeClassifier()\n",
      "randomforest RandomForestClassifier()\n"
     ]
    }
   ],
   "source": [
    "from sklearn.linear_model import LogisticRegression\n",
    "from sklearn.svm import SVC\n",
    "from sklearn.naive_bayes import GaussianNB\n",
    "from sklearn.neighbors import KNeighborsClassifier\n",
    "from sklearn.tree import DecisionTreeClassifier\n",
    "from sklearn.ensemble import RandomForestClassifier\n",
    "from sklearn.metrics import accuracy_score\n",
    "\n",
    "models =  {'logesticcregression': LogisticRegression() , \n",
    "           'supportvector': SVC() ,\n",
    "           'naivebayes': GaussianNB(),\n",
    "           'knn':KNeighborsClassifier() ,\n",
    "           'decisiontree': DecisionTreeClassifier() ,\n",
    "           'randomforest': RandomForestClassifier() ,\n",
    "\n",
    "}\n",
    "\n",
    "modelresult = []\n",
    "for modelname,model in models.items():\n",
    "    print(modelname,model)\n",
    "    model.fit(xtrain_scaled,ytrain)\n",
    "    train_predict =  model.predict(xtrain_scaled)\n",
    "    test_predict  = model.predict(xtest_scaled)\n",
    "\n",
    "    train_accuracy = accuracy_score(train_predict,ytrain)\n",
    "    test_accuracy =  accuracy_score(test_predict,ytest)\n",
    "    modelresult.append([modelname,train_accuracy,test_accuracy])\n",
    "\n",
    "    \n",
    "\n",
    "\n",
    "\n",
    "\n"
   ]
  },
  {
   "cell_type": "code",
   "execution_count": 43,
   "id": "352ca233",
   "metadata": {},
   "outputs": [
    {
     "data": {
      "text/html": [
       "<div>\n",
       "<style scoped>\n",
       "    .dataframe tbody tr th:only-of-type {\n",
       "        vertical-align: middle;\n",
       "    }\n",
       "\n",
       "    .dataframe tbody tr th {\n",
       "        vertical-align: top;\n",
       "    }\n",
       "\n",
       "    .dataframe thead th {\n",
       "        text-align: right;\n",
       "    }\n",
       "</style>\n",
       "<table border=\"1\" class=\"dataframe\">\n",
       "  <thead>\n",
       "    <tr style=\"text-align: right;\">\n",
       "      <th></th>\n",
       "      <th>model name</th>\n",
       "      <th>train_accuracy</th>\n",
       "      <th>test_accuracy</th>\n",
       "    </tr>\n",
       "  </thead>\n",
       "  <tbody>\n",
       "    <tr>\n",
       "      <th>0</th>\n",
       "      <td>logesticcregression</td>\n",
       "      <td>0.938125</td>\n",
       "      <td>0.9350</td>\n",
       "    </tr>\n",
       "    <tr>\n",
       "      <th>1</th>\n",
       "      <td>supportvector</td>\n",
       "      <td>0.971250</td>\n",
       "      <td>0.8700</td>\n",
       "    </tr>\n",
       "    <tr>\n",
       "      <th>2</th>\n",
       "      <td>naivebayes</td>\n",
       "      <td>0.815000</td>\n",
       "      <td>0.8600</td>\n",
       "    </tr>\n",
       "    <tr>\n",
       "      <th>3</th>\n",
       "      <td>knn</td>\n",
       "      <td>0.620000</td>\n",
       "      <td>0.4250</td>\n",
       "    </tr>\n",
       "    <tr>\n",
       "      <th>4</th>\n",
       "      <td>decisiontree</td>\n",
       "      <td>1.000000</td>\n",
       "      <td>0.8350</td>\n",
       "    </tr>\n",
       "    <tr>\n",
       "      <th>5</th>\n",
       "      <td>randomforest</td>\n",
       "      <td>1.000000</td>\n",
       "      <td>0.8925</td>\n",
       "    </tr>\n",
       "  </tbody>\n",
       "</table>\n",
       "</div>"
      ],
      "text/plain": [
       "            model name  train_accuracy  test_accuracy\n",
       "0  logesticcregression        0.938125         0.9350\n",
       "1        supportvector        0.971250         0.8700\n",
       "2           naivebayes        0.815000         0.8600\n",
       "3                  knn        0.620000         0.4250\n",
       "4         decisiontree        1.000000         0.8350\n",
       "5         randomforest        1.000000         0.8925"
      ]
     },
     "execution_count": 43,
     "metadata": {},
     "output_type": "execute_result"
    }
   ],
   "source": [
    "pd.DataFrame(modelresult,columns=['model name','train_accuracy','test_accuracy'])"
   ]
  },
  {
   "cell_type": "code",
   "execution_count": 44,
   "id": "9affeb8c",
   "metadata": {},
   "outputs": [
    {
     "data": {
      "text/plain": [
       "<Axes: >"
      ]
     },
     "execution_count": 44,
     "metadata": {},
     "output_type": "execute_result"
    },
    {
     "data": {
      "image/png": "[encoded data removed]",
      "text/plain": [
       "<Figure size 640x480 with 2 Axes>"
      ]
     },
     "metadata": {},
     "output_type": "display_data"
    }
   ],
   "source": [
    "from sklearn.metrics import confusion_matrix\n",
    "\n",
    "confusion_matrix(test_predict,ytest)\n",
    "\n",
    "import seaborn as sns \n",
    "sns.heatmap(confusion_matrix(test_predict,ytest) ,annot=True   )\n"
   ]
  },
  {
   "cell_type": "code",
   "execution_count": 45,
   "id": "8d47d89d",
   "metadata": {},
   "outputs": [
    {
     "name": "stdout",
     "output_type": "stream",
     "text": [
      "              precision    recall  f1-score   support\n",
      "\n",
      "           0       0.94      0.92      0.93       106\n",
      "           1       0.84      0.85      0.85        89\n",
      "           2       0.88      0.82      0.85       102\n",
      "           3       0.89      0.96      0.93       103\n",
      "\n",
      "    accuracy                           0.89       400\n",
      "   macro avg       0.89      0.89      0.89       400\n",
      "weighted avg       0.89      0.89      0.89       400\n",
      "\n"
     ]
    }
   ],
   "source": [
    "from sklearn.metrics import classification_report\n",
    "\n",
    "\n",
    "print(classification_report(test_predict,ytest))"
   ]
  }
 ],
 "metadata": {
  "kernelspec": {
   "display_name": "Python 3",
   "language": "python",
   "name": "python3"
  },
  "language_info": {
   "codemirror_mode": {
    "name": "ipython",
    "version": 3
   },
   "file_extension": ".py",
   "mimetype": "text/x-python",
   "name": "python",
   "nbconvert_exporter": "python",
   "pygments_lexer": "ipython3",
   "version": "3.12.1"
  }
 },
 "nbformat": 4,
 "nbformat_minor": 5
}
